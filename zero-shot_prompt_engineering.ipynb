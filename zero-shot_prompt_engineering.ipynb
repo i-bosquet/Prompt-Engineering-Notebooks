{
 "cells": [
  {
   "cell_type": "markdown",
   "id": "a863f2d0-2dfb-48c9-af72-683f13e4b74f",
   "metadata": {},
   "source": [
    "## Carga del dataset IMDb.csv\n",
    "- **Importar Pandas**: Importamos la biblioteca Pandas para trabajar con el DataFrame.\n",
    "- **Especificar la Ruta del Archivo**: Definimos la ruta del archivo CSV que vamos a cargar.\n",
    "- **Cargar el Archivo CSV**: Intentamos cargar el archivo CSV utilizando `pd.read_csv`. Hemos añadido el parámetro `delimiter='|'` para asegurarnos de que las barras verticales se usen como delimitador.\n",
    "- **Mostrar las Primeras Filas**: Utilizamos `imdb_df.head(10)` para mostrar las primeras filas del DataFrame y verificar que se haya cargado correctamente."
   ]
  },
  {
   "cell_type": "code",
   "execution_count": 1,
   "id": "a30aa6f9-4c17-4fab-a7be-9e849516559b",
   "metadata": {},
   "outputs": [
    {
     "name": "stdout",
     "output_type": "stream",
     "text": [
      "      ID                                              TITLE     GENRE  \\\n",
      "0  11355                           WWF Insurrextion (2001)    action    \n",
      "1   9718                                 Bus Driver (2016)    action    \n",
      "2  27523               Emergency: Fighters for Life (1998)    action    \n",
      "3  43529                                      Raven (1996)    action    \n",
      "4  14293                            Innocent Devils (????)    action    \n",
      "5  42925                         \"Angels from Hell\" (2016)    action    \n",
      "6   3658                        Wings of the Dragon (2014)    action    \n",
      "7  40871                            Tainted Kingdom (2008)    action    \n",
      "8  47551                                Switchcraft (????)    action    \n",
      "9  28322   Sette ore di violenza per una soluzione impre...   action    \n",
      "\n",
      "                                         DESCRIPTION  \n",
      "0   WWF World/Intercontinental/Tag Team Titles: S...  \n",
      "1   A high school bus on its way to a retreat blo...  \n",
      "2   Emergency - Fighters for Life from Topware is...  \n",
      "3   Martin Grant has been hiding for years to esc...  \n",
      "4   Two men, a rookie sailor and the grizzled lea...  \n",
      "5   Two kids have a sleepover and wake up over a ...  \n",
      "6   The Circle of Honor is a secret fight club wi...  \n",
      "7   A Kingdom named Syron is once the strongest K...  \n",
      "8   Hard-bitten down-to-earth New York City homic...  \n",
      "9   A former hitman is blackmailed into doing one...  \n"
     ]
    }
   ],
   "source": [
    "import pandas as pd\n",
    "\n",
    "# Specify the file path\n",
    "file_path = 'IMDb.csv'\n",
    "\n",
    "# Load the CSV file with the correct delimiter\n",
    "imdb_df = pd.read_csv(file_path, delimiter='|')\n",
    "\n",
    "# Display the first few rows of the DataFrame\n",
    "print(imdb_df.head(10))\n"
   ]
  },
  {
   "cell_type": "markdown",
   "id": "d11dce39-e2b5-4483-b664-34160932f42e",
   "metadata": {},
   "source": [
    "## Exploración y comprensión de los datos:\n",
    "- **Mostrar Resumen del DataFrame**: Utilizamos `print(imdb_df.info())` para mostrar un resumen del *DataFrame* y verificar su estructura. Esto incluye el número de entradas, el tipo de datos de cada columna y si hay valores nulos.\n",
    "- **Mostrar los Géneros Únicos**: Utilizamos `print(imdb_df['GENRE'].unique())` para mostrar los géneros únicos presentes en el *DataFrame*. Esto nos ayudará a entender la diversidad de géneros en el dataset."
   ]
  },
  {
   "cell_type": "code",
   "execution_count": 2,
   "id": "e1e9de4a-c806-48cf-8d4f-d6d40134f8cf",
   "metadata": {},
   "outputs": [
    {
     "name": "stdout",
     "output_type": "stream",
     "text": [
      "<class 'pandas.core.frame.DataFrame'>\n",
      "RangeIndex: 60 entries, 0 to 59\n",
      "Data columns (total 4 columns):\n",
      " #   Column       Non-Null Count  Dtype \n",
      "---  ------       --------------  ----- \n",
      " 0   ID           60 non-null     int64 \n",
      " 1   TITLE        60 non-null     object\n",
      " 2   GENRE        60 non-null     object\n",
      " 3   DESCRIPTION  60 non-null     object\n",
      "dtypes: int64(1), object(3)\n",
      "memory usage: 2.0+ KB\n",
      "None\n",
      "[' action ' ' comedy ' ' drama ' ' horror ' ' sci-fi ' ' thriller ']\n"
     ]
    }
   ],
   "source": [
    "# Display the summary of the DataFrame\n",
    "print(imdb_df.info())\n",
    "\n",
    "# Display the unique genres in the DataFrame\n",
    "print(imdb_df['GENRE'].unique())\n"
   ]
  },
  {
   "cell_type": "markdown",
   "id": "fdde50ba-2000-4afe-8c71-b5a8320bc9a0",
   "metadata": {},
   "source": [
    "## Generación del Prompt\n",
    "- **Seleccionar una Película de Ejemplo**: Utilizamos `imdb_df.iloc[0]` para seleccionar la primera película del *DataFrame* como ejemplo.\n",
    "- **Extraer la Descripción y la Lista de Géneros**: Extraemos la descripción de la película y creamos una lista de géneros únicos disponibles en el DataFrame.\n",
    "- **Crear el Prompt**: Formulamos un prompt que describe la tarea al modelo de lenguaje. El *prompt* incluye la descripción de la película y la lista de géneros, y solicita la salida en formato JSON con el género y el nombre del protagonista.\n",
    "- **Mostrar el Prompt**: Utilizamos `print(prompt)` para mostrar el prompt generado."
   ]
  },
  {
   "cell_type": "code",
   "execution_count": 12,
   "id": "490abe0e-e6da-48db-8c83-50dd32ea73d2",
   "metadata": {},
   "outputs": [
    {
     "name": "stdout",
     "output_type": "stream",
     "text": [
      "\n",
      "Description of a movie: \" WWF World/Intercontinental/Tag Team Titles: Steve Austin & Triple H vs. Kane & The Undertaker, WWF European Title: Matt Hardy vs. Eddy Guererro vs. Christian, WWF Hardcore Title: Rhyno vs. Raven, 30 Minute Submission Match: Chris Benoit vs. Kurt Angle, Dutchess of Queensbury Rules: William Regal vs. Chris Jericho, Last Man Standing: Shane McMahon vs. The Big Show, X-Factor vs. The Dudley Boyz & Spike Dudley WWF Title (handicap match) Steve Austin & Triple H vs. The Undertaker, Queen's Cup Rules: William Regal vs. Chris Jericho, 2 Out of 3 Falls: Chris Benoit vs. Kurt Angle, Edge & Christian vs. The Dudley Boyz vs. The Hardy Boyz vs. X-Factor, Bradshaw vs. The Big Show, Dean Malenko & Perry Saturn vs. Hardcore & Crash Holly, Eddy Guererro vs. Grandmaster Sexay\". \n",
      "Based on this description, return the genre of the movie from the following list:  action ,  comedy ,  drama ,  horror ,  sci-fi ,  thriller  and the name of the protagonist in JSON format.\n",
      "\n",
      "Output format:\n",
      "{\n",
      "  \"genre\": \"Genre of the movie\",\n",
      "  \"protagonist\": \"Name of the protagonist\"\n",
      "}\n",
      "\n"
     ]
    }
   ],
   "source": [
    "# Select a sample movie description\n",
    "sample_movie = imdb_df.iloc[0]  # Select the first movie as an example\n",
    "\n",
    "# Extract the description and the list of genres\n",
    "description = sample_movie['DESCRIPTION']\n",
    "genres = \", \".join(imdb_df['GENRE'].unique())\n",
    "\n",
    "# Create the prompt\n",
    "prompt = f\"\"\"\n",
    "Description of a movie: \"{description}\". \n",
    "Based on this description, return the genre of the movie from the following list: {genres} and the name of the protagonist in JSON format.\n",
    "\n",
    "Output format:\n",
    "{{\n",
    "  \"genre\": \"Genre of the movie\",\n",
    "  \"protagonist\": \"Name of the protagonist\"\n",
    "}}\n",
    "\"\"\"\n",
    "\n",
    "# Display the prompt\n",
    "print(prompt)"
   ]
  }
 ],
 "metadata": {
  "kernelspec": {
   "display_name": "Python 3 (ipykernel)",
   "language": "python",
   "name": "python3"
  },
  "language_info": {
   "codemirror_mode": {
    "name": "ipython",
    "version": 3
   },
   "file_extension": ".py",
   "mimetype": "text/x-python",
   "name": "python",
   "nbconvert_exporter": "python",
   "pygments_lexer": "ipython3",
   "version": "3.12.2"
  }
 },
 "nbformat": 4,
 "nbformat_minor": 5
}

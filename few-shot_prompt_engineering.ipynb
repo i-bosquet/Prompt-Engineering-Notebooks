{
 "cells": [
  {
   "cell_type": "markdown",
   "id": "c8f38c08-110f-45cf-b17c-d7aebec231c4",
   "metadata": {},
   "source": [
    "## Carga del dataset IMDb.csv\n",
    "- **Importar Pandas**: Importamos la biblioteca Pandas para trabajar con el DataFrame.\n",
    "- **Especificar la Ruta del Archivo**: Definimos la ruta del archivo CSV que vamos a cargar.\n",
    "- **Cargar el Archivo CSV**: Intentamos cargar el archivo CSV utilizando `pd.read_csv`. Hemos añadido el parámetro `delimiter='|'` para asegurarnos de que las barras verticales se usen como delimitador.\n",
    "- **Mostrar las Primeras Filas**: Utilizamos `imdb_df.head(10)` para mostrar las primeras filas del DataFrame y verificar que se haya cargado correctamente.\n",
    "\n",
    "## Exploración y comprensión de los datos:\n",
    "- **Mostrar Resumen del DataFrame**: Utilizamos `print(imdb_df.info())` para mostrar un resumen del *DataFrame* y verificar su estructura. Esto incluye el número de entradas, el tipo de datos de cada columna y si hay valores nulos.\n",
    "- **Mostrar los Géneros Únicos**: Utilizamos `print(imdb_df['GENRE'].unique())` para mostrar los géneros únicos presentes en el *DataFrame*. Esto nos ayudará a entender la diversidad de géneros en el dataset."
   ]
  },
  {
   "cell_type": "code",
   "execution_count": 8,
   "id": "426266df-9bb1-4065-83e0-fcb99d32cf4a",
   "metadata": {},
   "outputs": [
    {
     "name": "stdout",
     "output_type": "stream",
     "text": [
      "      ID                                              TITLE     GENRE  \\\n",
      "0  11355                           WWF Insurrextion (2001)    action    \n",
      "1   9718                                 Bus Driver (2016)    action    \n",
      "2  27523               Emergency: Fighters for Life (1998)    action    \n",
      "3  43529                                      Raven (1996)    action    \n",
      "4  14293                            Innocent Devils (????)    action    \n",
      "5  42925                         \"Angels from Hell\" (2016)    action    \n",
      "6   3658                        Wings of the Dragon (2014)    action    \n",
      "7  40871                            Tainted Kingdom (2008)    action    \n",
      "8  47551                                Switchcraft (????)    action    \n",
      "9  28322   Sette ore di violenza per una soluzione impre...   action    \n",
      "\n",
      "                                         DESCRIPTION  \n",
      "0   WWF World/Intercontinental/Tag Team Titles: S...  \n",
      "1   A high school bus on its way to a retreat blo...  \n",
      "2   Emergency - Fighters for Life from Topware is...  \n",
      "3   Martin Grant has been hiding for years to esc...  \n",
      "4   Two men, a rookie sailor and the grizzled lea...  \n",
      "5   Two kids have a sleepover and wake up over a ...  \n",
      "6   The Circle of Honor is a secret fight club wi...  \n",
      "7   A Kingdom named Syron is once the strongest K...  \n",
      "8   Hard-bitten down-to-earth New York City homic...  \n",
      "9   A former hitman is blackmailed into doing one...  \n",
      "<class 'pandas.core.frame.DataFrame'>\n",
      "RangeIndex: 60 entries, 0 to 59\n",
      "Data columns (total 4 columns):\n",
      " #   Column       Non-Null Count  Dtype \n",
      "---  ------       --------------  ----- \n",
      " 0   ID           60 non-null     int64 \n",
      " 1   TITLE        60 non-null     object\n",
      " 2   GENRE        60 non-null     object\n",
      " 3   DESCRIPTION  60 non-null     object\n",
      "dtypes: int64(1), object(3)\n",
      "memory usage: 2.0+ KB\n",
      "None\n",
      "[' action ' ' comedy ' ' drama ' ' horror ' ' sci-fi ' ' thriller ']\n"
     ]
    }
   ],
   "source": [
    "import pandas as pd\n",
    "\n",
    "# Specify the file path\n",
    "file_path = 'IMDb.csv'\n",
    "\n",
    "# Load the CSV file with the correct delimiter\n",
    "imdb_df = pd.read_csv(file_path, delimiter='|')\n",
    "\n",
    "# Display the first few rows of the DataFrame\n",
    "print(imdb_df.head(10))\n",
    "\n",
    "# Display the summary of the DataFrame: Use print(imdb_df.info()) to display a summary of the DataFrame and verify its structure.\n",
    "print(imdb_df.info())\n",
    "\n",
    "# Display the unique genres in the DataFrame: Use print(imdb_df['GENRE'].unique()) to display the unique genres present in the DataFrame. This helps us understand the diversity of genres in the dataset.\n",
    "print(imdb_df['GENRE'].unique())"
   ]
  },
  {
   "cell_type": "markdown",
   "id": "3da52427-0ee0-4700-9cc0-cbe13777a1cb",
   "metadata": {},
   "source": [
    "## Selección de Ejemplos \n",
    "- **Seleccionar Ejemplos de Películas**: Utilizamos `imdb_df.iloc[[1, 2, 3]]` para seleccionar tres películas del DataFrame como ejemplos.\n",
    "- **Asignar Protagonistas**: Definimos una lista de protagonistas correspondientes a cada una de las películas seleccionadas.\n",
    "- **Extraer Descripciones y Géneros**: Creamos una lista de ejemplos formateada, que incluye la descripción de la película, el género y los nombres de los protagonistas.\n",
    "- **Mostrar los Ejemplos Formateados**: Utilizamos un bucle para imprimir cada ejemplo formateado."
   ]
  },
  {
   "cell_type": "code",
   "execution_count": 23,
   "id": "04b9fb15-e823-44dc-8661-b89fbcf9a3ec",
   "metadata": {},
   "outputs": [
    {
     "name": "stdout",
     "output_type": "stream",
     "text": [
      "\" A high school bus on its way to a retreat blows a tire and stops at the nearest ranch for help. The driver, five troubled students, and their ridiculous gym- teacher chaperone find, instead, criminals who will stop at nothing to make sure their drug operations aren't discovered. The students and teacher are easy prey for these animals, but standing in the way of certain death is a force more determined and more skilled than any of them ever expected: The Bus Driver.\" - Genre:  action , Protagonist: The bus driver\n",
      "\" An ambitious teen, Gina, stumbles upon some ingenious, questionable means of reaching her dream - escaping suburban life with her best friend, Kelly, and starting an acting career in Los Angeles. Along the way she befriends & is lead to more schemes by Elliott, an aspiring artist, drop out, and caretaker of his ailing father.\" - Genre:  drama , Protagonist: Gina, Kelly, Eliott\n",
      "\" After his older brother's mysterious death, Peyton Doves finds himself in a desperate situation. While Peyton has always honored his father's strict backwoods-take on religion, his brother's involvement with the local crime syndicate has created incredible problems. Law enforcement wants Peyton to answer for his brother's crimes and the sinister Tito Bane wants Peyton to pick up where his brother left off. With police and criminals on his trail, Peyton crosses paths with a runaway private school girl and his greatest battle yet: Love\" - Genre:  horror , Protagonist: Payton Doves, Tito Bane\n"
     ]
    }
   ],
   "source": [
    "# Select a few example movies: Use imdb_df.iloc[[1, 21, 31]] to select three movies from the DataFrame as examples.\n",
    "examples = imdb_df.iloc[[1, 21, 31]]  # Select three movies as examples\n",
    "\n",
    "# Define the protagonists for the selected movies\n",
    "protagonists = [\n",
    "    \"The bus driver\",  # Movie 1\n",
    "    \"Gina, Kelly, Eliott\",  # Movie 21\n",
    "    \"Payton Doves, Tito Bane\"  # Movie 31\n",
    "]\n",
    "\n",
    "# Extract descriptions, genres, and create few-shot examples\n",
    "example_prompts = []\n",
    "for row, protagonist in zip(examples.iterrows(), protagonists):\n",
    "    index, data = row\n",
    "    example_prompts.append(f\"\\\"{data['DESCRIPTION']}\\\" - Genre: {data['GENRE']}, Protagonist: {protagonist}\")\n",
    "\n",
    "# Display the formatted examples\n",
    "for example in example_prompts:\n",
    "    print(example)"
   ]
  },
  {
   "cell_type": "markdown",
   "id": "1ea99b36-cb98-4320-b3e7-969546ef9ae3",
   "metadata": {},
   "source": [
    "## Generación del promt\n",
    "- **Unir los Ejemplos**: Utilizamos \"\\n\".join(example_prompts) para unir los ejemplos en un solo string.\n",
    "- **Seleccionar una Película de Prueba**: Utilizamos imdb_df.iloc[0] para seleccionar la primera película del DataFrame como ejemplo de prueba.\n",
    "- **Extraer la Descripción y la Lista de Géneros**: Extraemos la descripción de la película y creamos una lista de géneros únicos disponibles en el DataFrame.\n",
    "- **Crear el Prompt few-shot**: Formulamos un prompt que incluye los ejemplos y luego la descripción de la película para la cual queremos predecir el género y el protagonista.\n",
    "- **Mostrar el Prompt few-shot**: Utilizamos print(few_shot_prompt) para mostrar el prompt generado."
   ]
  },
  {
   "cell_type": "code",
   "execution_count": 26,
   "id": "bd5ea8ea-cdf9-4fda-a67d-f661acc7dc92",
   "metadata": {},
   "outputs": [
    {
     "name": "stdout",
     "output_type": "stream",
     "text": [
      "\n",
      "Exemples of movie descriptions, their genres, and protagonists:\n",
      "\n",
      "\" A high school bus on its way to a retreat blows a tire and stops at the nearest ranch for help. The driver, five troubled students, and their ridiculous gym- teacher chaperone find, instead, criminals who will stop at nothing to make sure their drug operations aren't discovered. The students and teacher are easy prey for these animals, but standing in the way of certain death is a force more determined and more skilled than any of them ever expected: The Bus Driver.\" - Genre:  action , Protagonist: The bus driver\n",
      "\" An ambitious teen, Gina, stumbles upon some ingenious, questionable means of reaching her dream - escaping suburban life with her best friend, Kelly, and starting an acting career in Los Angeles. Along the way she befriends & is lead to more schemes by Elliott, an aspiring artist, drop out, and caretaker of his ailing father.\" - Genre:  drama , Protagonist: Gina, Kelly, Eliott\n",
      "\" After his older brother's mysterious death, Peyton Doves finds himself in a desperate situation. While Peyton has always honored his father's strict backwoods-take on religion, his brother's involvement with the local crime syndicate has created incredible problems. Law enforcement wants Peyton to answer for his brother's crimes and the sinister Tito Bane wants Peyton to pick up where his brother left off. With police and criminals on his trail, Peyton crosses paths with a runaway private school girl and his greatest battle yet: Love\" - Genre:  horror , Protagonist: Payton Doves, Tito Bane\n",
      "\n",
      "Based on these examples, return the genre of the movie from the following list:  action ,  comedy ,  drama ,  horror ,  sci-fi ,  thriller  and the name of the protagonist in JSON format.\n",
      "\n",
      "Movie description to analyze: \" WWF World/Intercontinental/Tag Team Titles: Steve Austin & Triple H vs. Kane & The Undertaker, WWF European Title: Matt Hardy vs. Eddy Guererro vs. Christian, WWF Hardcore Title: Rhyno vs. Raven, 30 Minute Submission Match: Chris Benoit vs. Kurt Angle, Dutchess of Queensbury Rules: William Regal vs. Chris Jericho, Last Man Standing: Shane McMahon vs. The Big Show, X-Factor vs. The Dudley Boyz & Spike Dudley WWF Title (handicap match) Steve Austin & Triple H vs. The Undertaker, Queen's Cup Rules: William Regal vs. Chris Jericho, 2 Out of 3 Falls: Chris Benoit vs. Kurt Angle, Edge & Christian vs. The Dudley Boyz vs. The Hardy Boyz vs. X-Factor, Bradshaw vs. The Big Show, Dean Malenko & Perry Saturn vs. Hardcore & Crash Holly, Eddy Guererro vs. Grandmaster Sexay\"\n",
      "\n",
      "Output format:\n",
      "{\n",
      "  \"genre\": \"Genre of the movie\",\n",
      "  \"protagonist\": \"Name of the protagonist\"\n",
      "}\n",
      "\n"
     ]
    }
   ],
   "source": [
    "# Join the example prompts\n",
    "few_shot_examples = \"\\n\".join(example_prompts)\n",
    "\n",
    "# Select a sample movie description for testing\n",
    "test_movie = imdb_df.iloc[0]  # Select the first movie as an example\n",
    "\n",
    "# Extract the description and the list of genres\n",
    "description = test_movie['DESCRIPTION']\n",
    "genres = \", \".join(imdb_df['GENRE'].unique())\n",
    "\n",
    "# Create the few-shot prompt\n",
    "few_shot_prompt = f\"\"\"\n",
    "Exemples of movie descriptions, their genres, and protagonists:\n",
    "\n",
    "{few_shot_examples}\n",
    "\n",
    "Based on these examples, return the genre of the movie from the following list: {genres} and the name of the protagonist in JSON format.\n",
    "\n",
    "Movie description to analyze: \"{description}\"\n",
    "\n",
    "Output format:\n",
    "{{\n",
    "  \"genre\": \"Genre of the movie\",\n",
    "  \"protagonist\": \"Name of the protagonist\"\n",
    "}}\n",
    "\"\"\"\n",
    "\n",
    "# Display the few-shot prompt\n",
    "print(few_shot_prompt)"
   ]
  },
  {
   "cell_type": "code",
   "execution_count": null,
   "id": "a9e31bef-2df2-4e02-a00d-0e8508fe589e",
   "metadata": {},
   "outputs": [],
   "source": []
  }
 ],
 "metadata": {
  "kernelspec": {
   "display_name": "Python 3 (ipykernel)",
   "language": "python",
   "name": "python3"
  },
  "language_info": {
   "codemirror_mode": {
    "name": "ipython",
    "version": 3
   },
   "file_extension": ".py",
   "mimetype": "text/x-python",
   "name": "python",
   "nbconvert_exporter": "python",
   "pygments_lexer": "ipython3",
   "version": "3.12.2"
  }
 },
 "nbformat": 4,
 "nbformat_minor": 5
}
